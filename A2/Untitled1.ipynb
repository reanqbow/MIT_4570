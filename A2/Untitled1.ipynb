{
 "cells": [
  {
   "cell_type": "code",
   "execution_count": 5,
   "id": "122d5b07",
   "metadata": {},
   "outputs": [
    {
     "name": "stdout",
     "output_type": "stream",
     "text": [
      "True [[[206 206 206]\n",
      "  [206 206 206]\n",
      "  [206 206 206]\n",
      "  ...\n",
      "  [152 146 134]\n",
      "  [153 147 135]\n",
      "  [155 149 137]]\n",
      "\n",
      " [[204 204 204]\n",
      "  [204 204 204]\n",
      "  [204 204 204]\n",
      "  ...\n",
      "  [153 147 135]\n",
      "  [153 147 135]\n",
      "  [154 148 136]]\n",
      "\n",
      " [[201 201 201]\n",
      "  [201 201 201]\n",
      "  [201 201 201]\n",
      "  ...\n",
      "  [154 148 136]\n",
      "  [154 148 136]\n",
      "  [153 147 135]]\n",
      "\n",
      " ...\n",
      "\n",
      " [[147 150 155]\n",
      "  [147 150 155]\n",
      "  [153 156 161]\n",
      "  ...\n",
      "  [134 135 140]\n",
      "  [137 138 143]\n",
      "  [137 138 143]]\n",
      "\n",
      " [[141 144 149]\n",
      "  [144 147 152]\n",
      "  [153 156 161]\n",
      "  ...\n",
      "  [136 137 142]\n",
      "  [136 137 142]\n",
      "  [137 138 143]]\n",
      "\n",
      " [[139 142 147]\n",
      "  [141 144 149]\n",
      "  [152 155 160]\n",
      "  ...\n",
      "  [140 141 146]\n",
      "  [139 140 145]\n",
      "  [137 138 143]]]\n"
     ]
    }
   ],
   "source": [
    "import cv2, pafy\n",
    "\n",
    "url   = \"https://www.youtube.com/watch?v=HpdO5Kq3o7Y\"\n",
    "video = pafy.new(url)\n",
    "best  = video.getbest(preftype=\"any\")\n",
    "#documentation: https://pypi.org/project/pafy/\n",
    "\n",
    "capture = cv2.VideoCapture(best.url)\n",
    "check, frame = capture.read()\n",
    "print (check, frame)\n",
    "\n",
    "cv2.imshow('frame',frame)\n",
    "cv2.waitKey(10)\n",
    "\n",
    "capture.release()\n",
    "cv2.destroyAllWindows()"
   ]
  },
  {
   "cell_type": "code",
   "execution_count": 2,
   "id": "c649c377",
   "metadata": {},
   "outputs": [],
   "source": [
    "import cv2, pafy\n",
    "URL = \"https://www.youtube.com/watch?v=dQw4w9WgXcQ\" #URL to parse\n",
    "play = pafy.new(URL).streams[-1] #'-1' means read the lowest quality of video.\n",
    "assert play is not None # we want to make sure their is a input to read.\n",
    "stream = cv2.VideoCapture(play.url) #create a opencv video stream."
   ]
  },
  {
   "cell_type": "code",
   "execution_count": 3,
   "id": "bb9be16f",
   "metadata": {},
   "outputs": [
    {
     "ename": "NameError",
     "evalue": "name 'torch' is not defined",
     "output_type": "error",
     "traceback": [
      "\u001b[1;31m---------------------------------------------------------------------------\u001b[0m",
      "\u001b[1;31mNameError\u001b[0m                                 Traceback (most recent call last)",
      "Input \u001b[1;32mIn [3]\u001b[0m, in \u001b[0;36m<module>\u001b[1;34m\u001b[0m\n\u001b[0;32m      1\u001b[0m \u001b[38;5;28;01mfrom\u001b[39;00m \u001b[38;5;21;01mtorch\u001b[39;00m \u001b[38;5;28;01mimport\u001b[39;00m hub \u001b[38;5;66;03m# Hub contains other models like FasterRCNN\u001b[39;00m\n\u001b[1;32m----> 2\u001b[0m model \u001b[38;5;241m=\u001b[39m \u001b[43mtorch\u001b[49m\u001b[38;5;241m.\u001b[39mhub\u001b[38;5;241m.\u001b[39mload( \\\n\u001b[0;32m      3\u001b[0m                       \u001b[38;5;124m'\u001b[39m\u001b[38;5;124multralytics/yolov5\u001b[39m\u001b[38;5;124m'\u001b[39m, \\\n\u001b[0;32m      4\u001b[0m                       \u001b[38;5;124m'\u001b[39m\u001b[38;5;124myolov5s\u001b[39m\u001b[38;5;124m'\u001b[39m, \\\n\u001b[0;32m      5\u001b[0m                       pretrained\u001b[38;5;241m=\u001b[39m\u001b[38;5;28;01mTrue\u001b[39;00m)\n",
      "\u001b[1;31mNameError\u001b[0m: name 'torch' is not defined"
     ]
    }
   ],
   "source": [
    "from torch import hub # Hub contains other models like FasterRCNN\n",
    "model = torch.hub.load( \\\n",
    "                      'ultralytics/yolov5', \\\n",
    "                      'yolov5s', \\\n",
    "                      pretrained=True)"
   ]
  }
 ],
 "metadata": {
  "kernelspec": {
   "display_name": "Python 3 (ipykernel)",
   "language": "python",
   "name": "python3"
  },
  "language_info": {
   "codemirror_mode": {
    "name": "ipython",
    "version": 3
   },
   "file_extension": ".py",
   "mimetype": "text/x-python",
   "name": "python",
   "nbconvert_exporter": "python",
   "pygments_lexer": "ipython3",
   "version": "3.9.6"
  }
 },
 "nbformat": 4,
 "nbformat_minor": 5
}
