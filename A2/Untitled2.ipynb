{
 "cells": [
  {
   "cell_type": "code",
   "execution_count": 1,
   "id": "1c11b348-8556-4390-b960-952000d98d53",
   "metadata": {},
   "outputs": [],
   "source": [
    "import cv2, pafy\n",
    "URL = \"https://www.youtube.com/watch?v=dQw4w9WgXcQ\" #URL to parse\n",
    "play = pafy.new(URL).streams[-1] #'-1' means read the lowest quality of video.\n",
    "assert play is not None # we want to make sure their is a input to read.\n",
    "stream = cv2.VideoCapture(play.url) #create a opencv video stream."
   ]
  },
  {
   "cell_type": "code",
   "execution_count": 2,
   "id": "4cca00d1-1fb9-448a-8b45-159a9da7975d",
   "metadata": {},
   "outputs": [
    {
     "ename": "NameError",
     "evalue": "name 'torch' is not defined",
     "output_type": "error",
     "traceback": [
      "\u001b[1;31m---------------------------------------------------------------------------\u001b[0m",
      "\u001b[1;31mNameError\u001b[0m                                 Traceback (most recent call last)",
      "Input \u001b[1;32mIn [2]\u001b[0m, in \u001b[0;36m<module>\u001b[1;34m\u001b[0m\n\u001b[0;32m      1\u001b[0m \u001b[38;5;28;01mfrom\u001b[39;00m \u001b[38;5;21;01mtorch\u001b[39;00m \u001b[38;5;28;01mimport\u001b[39;00m hub \u001b[38;5;66;03m# Hub contains other models like FasterRCNN\u001b[39;00m\n\u001b[1;32m----> 2\u001b[0m model \u001b[38;5;241m=\u001b[39m \u001b[43mtorch\u001b[49m\u001b[38;5;241m.\u001b[39mhub\u001b[38;5;241m.\u001b[39mload( \\\n\u001b[0;32m      3\u001b[0m                       \u001b[38;5;124m'\u001b[39m\u001b[38;5;124multralytics/yolov5\u001b[39m\u001b[38;5;124m'\u001b[39m, \\\n\u001b[0;32m      4\u001b[0m                       \u001b[38;5;124m'\u001b[39m\u001b[38;5;124myolov5s\u001b[39m\u001b[38;5;124m'\u001b[39m, \\\n\u001b[0;32m      5\u001b[0m                       pretrained\u001b[38;5;241m=\u001b[39m\u001b[38;5;28;01mTrue\u001b[39;00m)\n",
      "\u001b[1;31mNameError\u001b[0m: name 'torch' is not defined"
     ]
    }
   ],
   "source": [
    "from torch import hub # Hub contains other models like FasterRCNN\n",
    "model = torch.hub.load( \\\n",
    "                      'ultralytics/yolov5', \\\n",
    "                      'yolov5s', \\\n",
    "                      pretrained=True)"
   ]
  }
 ],
 "metadata": {
  "kernelspec": {
   "display_name": "Python 3 (ipykernel)",
   "language": "python",
   "name": "python3"
  },
  "language_info": {
   "codemirror_mode": {
    "name": "ipython",
    "version": 3
   },
   "file_extension": ".py",
   "mimetype": "text/x-python",
   "name": "python",
   "nbconvert_exporter": "python",
   "pygments_lexer": "ipython3",
   "version": "3.9.6"
  }
 },
 "nbformat": 4,
 "nbformat_minor": 5
}
