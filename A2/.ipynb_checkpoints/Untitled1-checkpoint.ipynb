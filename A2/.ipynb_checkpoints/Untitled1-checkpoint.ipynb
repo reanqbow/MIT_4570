{
 "cells": [
  {
   "cell_type": "code",
   "execution_count": 1,
   "id": "c6389b8f",
   "metadata": {},
   "outputs": [
    {
     "ename": "AttributeError",
     "evalue": "'NoneType' object has no attribute 'url'",
     "output_type": "error",
     "traceback": [
      "\u001b[1;31m---------------------------------------------------------------------------\u001b[0m",
      "\u001b[1;31mAttributeError\u001b[0m                            Traceback (most recent call last)",
      "Input \u001b[1;32mIn [1]\u001b[0m, in \u001b[0;36m<module>\u001b[1;34m\u001b[0m\n\u001b[0;32m      5\u001b[0m best  \u001b[38;5;241m=\u001b[39m video\u001b[38;5;241m.\u001b[39mgetbest(preftype\u001b[38;5;241m=\u001b[39m\u001b[38;5;124m\"\u001b[39m\u001b[38;5;124mwebm\u001b[39m\u001b[38;5;124m\"\u001b[39m)\n\u001b[0;32m      6\u001b[0m \u001b[38;5;66;03m#documentation: https://pypi.org/project/pafy/\u001b[39;00m\n\u001b[1;32m----> 8\u001b[0m capture \u001b[38;5;241m=\u001b[39m cv2\u001b[38;5;241m.\u001b[39mVideoCapture(\u001b[43mbest\u001b[49m\u001b[38;5;241;43m.\u001b[39;49m\u001b[43murl\u001b[49m)\n\u001b[0;32m      9\u001b[0m check, frame \u001b[38;5;241m=\u001b[39m capture\u001b[38;5;241m.\u001b[39mread()\n\u001b[0;32m     10\u001b[0m \u001b[38;5;28mprint\u001b[39m (check, frame)\n",
      "\u001b[1;31mAttributeError\u001b[0m: 'NoneType' object has no attribute 'url'"
     ]
    }
   ],
   "source": [
    "import cv2, pafy\n",
    "\n",
    "url   = \"https://www.youtube.com/watch?v=HpdO5Kq3o7Y\"\n",
    "video = pafy.new(url)\n",
    "best  = video.getbest(preftype=\"any\")\n",
    "#documentation: https://pypi.org/project/pafy/\n",
    "\n",
    "capture = cv2.VideoCapture(best.url)\n",
    "check, frame = capture.read()\n",
    "print (check, frame)\n",
    "\n",
    "cv2.imshow('frame',frame)\n",
    "cv2.waitKey(10)\n",
    "\n",
    "capture.release()\n",
    "cv2.destroyAllWindows()"
   ]
  }
 ],
 "metadata": {
  "kernelspec": {
   "display_name": "Python 3 (ipykernel)",
   "language": "python",
   "name": "python3"
  },
  "language_info": {
   "codemirror_mode": {
    "name": "ipython",
    "version": 3
   },
   "file_extension": ".py",
   "mimetype": "text/x-python",
   "name": "python",
   "nbconvert_exporter": "python",
   "pygments_lexer": "ipython3",
   "version": "3.9.6"
  }
 },
 "nbformat": 4,
 "nbformat_minor": 5
}
